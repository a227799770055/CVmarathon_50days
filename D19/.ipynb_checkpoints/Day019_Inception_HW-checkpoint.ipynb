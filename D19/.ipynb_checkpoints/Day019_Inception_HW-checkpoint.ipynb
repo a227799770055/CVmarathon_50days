{
 "cells": [
  {
   "cell_type": "markdown",
   "metadata": {},
   "source": [
    "## 『本次練習內容』\n",
    "#### 學習如何搭建Inception Block"
   ]
  },
  {
   "cell_type": "markdown",
   "metadata": {},
   "source": [
    "## 『本次練習目的』\n",
    "  #### 了解Inceotion原理\n",
    "  #### 了解如何導入Inception block到原本架構中"
   ]
  },
  {
   "cell_type": "markdown",
   "metadata": {},
   "source": [
    "---"
   ]
  },
  {
   "cell_type": "markdown",
   "metadata": {},
   "source": [
    "![Incpeiton](Inception架構.png)"
   ]
  },
  {
   "cell_type": "code",
   "execution_count": 11,
   "metadata": {},
   "outputs": [],
   "source": [
    "import numpy as np\n",
    "from tensorflow.keras.models import Model\n",
    "from tensorflow.keras.layers import Flatten\n",
    "from tensorflow.keras.layers import Dense\n",
    "from tensorflow.keras.layers import Input\n",
    "from tensorflow.keras.layers import Conv2D\n",
    "from tensorflow.keras.layers import MaxPooling2D\n",
    "from tensorflow.keras.layers import MaxPooling2D\n",
    "from tensorflow.keras.layers import GlobalAveragePooling2D\n",
    "from tensorflow.keras import backend as K\n",
    "from tensorflow.keras import layers\n",
    "from tensorflow.keras.layers import BatchNormalization\n",
    "from tensorflow.keras.layers import Activation"
   ]
  },
  {
   "cell_type": "markdown",
   "metadata": {},
   "source": [
    "## 導入InceptionV2-有BatchNormalization的Convolution"
   ]
  },
  {
   "cell_type": "code",
   "execution_count": 12,
   "metadata": {},
   "outputs": [],
   "source": [
    "def Conv2d_bn(x,filters,kernel_size,padding='same',strides=(1, 1),normalizer=True,activation='relu',name=None):\n",
    "    if name is not None:\n",
    "        conv_name = name + '_conv'\n",
    "        bn_name = name + '_bn'\n",
    "        act_name = name + '_act'\n",
    "    else:\n",
    "        conv_name = None\n",
    "        bn_name = None\n",
    "        act_name = None\n",
    "    if K.image_data_format() == 'channels_first':\n",
    "        bn_axis = 1\n",
    "    else:\n",
    "        bn_axis = 3\n",
    "    x = Conv2D(\n",
    "            filters, kernel_size,\n",
    "            strides=strides, padding=padding,\n",
    "            use_bias=False, name=conv_name)(x)\n",
    "    if normalizer:\n",
    "        x = BatchNormalization(axis=bn_axis, scale=False, name=bn_name)(x)\n",
    "    if activation:\n",
    "        x = Activation(activation, name=act_name)(x)\n",
    "    return x"
   ]
  },
  {
   "cell_type": "markdown",
   "metadata": {},
   "source": [
    "## 參考上圖搭建 InceptionV1_block"
   ]
  },
  {
   "cell_type": "code",
   "execution_count": 15,
   "metadata": {},
   "outputs": [],
   "source": [
    "def InceptionV1_block(x, specs,channel_axis, name):\n",
    "    (br0, br1, br2, br3) = specs   # ((64,), (96,128), (16,32), (32,))\n",
    "    branch_0 = Conv2d_bn(x, br0[0], (1, 1), name=name+\"_Branch_0\")\n",
    "\n",
    "    branch_1 = Conv2d_bn(x, br1[0], (1, 1), name=name+\"_Branch_1\")\n",
    "    branch_1 = Conv2d_bn(branch_1, br1[1], (3, 3), name=name+\"_Branch_1_1\")\n",
    "\n",
    "    '''Branch_2'''\n",
    "    branch_2 = Conv2d_bn(x, br2[0], (1,1), name=name+\"Branch_2\")\n",
    "    branch_2 = Conv2d_bn(branch_2, br2[1], (5,5), name=name+\"Branch_2_1\")\n",
    "\n",
    "    '''Branch_3'''\n",
    "    branch_3 = MaxPooling2D(pool_size=(3,3), strides=(1,1), padding='same', name=name+\"_Branch_3\")(x)\n",
    "    branch_3 = Conv2d_bn(branch_3, br3[0], (1, 1), name=name+\"_Branch_3\")\n",
    "    \n",
    "\n",
    "    x = layers.concatenate(\n",
    "        [branch_0, branch_1, branch_2, branch_3],\n",
    "        axis=channel_axis,\n",
    "        name=name+\"_Concatenated\")\n",
    "    return x"
   ]
  },
  {
   "cell_type": "markdown",
   "metadata": {},
   "source": [
    "## 測試"
   ]
  },
  {
   "cell_type": "code",
   "execution_count": 16,
   "metadata": {},
   "outputs": [
    {
     "name": "stdout",
     "output_type": "stream",
     "text": [
      "Tensor(\"Block_1_Concatenated/Identity:0\", shape=(None, 224, 224, 256), dtype=float32)\n"
     ]
    }
   ],
   "source": [
    "img_input = Input(shape=(224,224,1))\n",
    "x=InceptionV1_block(img_input, ((64,), (96,128), (16,32), (32,)), 3, 'Block_1')\n",
    "print(x)"
   ]
  },
  {
   "cell_type": "markdown",
   "metadata": {},
   "source": [
    "## 將 InceptionV1_block中n*n卷積改為1 x n+n x 1"
   ]
  },
  {
   "cell_type": "code",
   "execution_count": 17,
   "metadata": {},
   "outputs": [],
   "source": [
    "def InceptionV3_block(x, specs,channel_axis, name):\n",
    "    (br0, br1, br2, br3) = specs   # ((64,), (96,128), (16,32), (32,))\n",
    "    branch_0 = Conv2d_bn(x, br0[0], (1, 1), name=name+\"_Branch_0\")\n",
    "\n",
    "    branch_1 = Conv2d_bn(x, br1[0], (1, 1), name=name+\"_Branch_1\")\n",
    "    branch_1 = Conv2d_bn(branch_1, br1[1], (1, 3), name=name+\"_Branch_1_1\")\n",
    "    branch_1 = Conv2d_bn(branch_1, br1[1], (3, 1), name=name+\"_Branch_1_2\")\n",
    "\n",
    "    '''Branch_2'''\n",
    "    branch_2 = Conv2d_bn(x, br2[0], (1,1), name=name+\"Branch_2\")\n",
    "    branch_2 = Conv2d_bn(branch_2, br2[1], (1,5), name=name+\"Branch_2_1\")\n",
    "    branch_2 = Conv2d_bn(branch_2, br2[1], (5,1), name=name+\"Branch_2_2\")\n",
    "\n",
    "    '''Branch_3'''\n",
    "    branch_3 = MaxPooling2D(pool_size=(3,3), strides=(1,1), padding='same', name=name+\"_Branch_3\")(x)\n",
    "    branch_3 = Conv2d_bn(branch_3, br3[0], (1, 1), name=name+\"_Branch_3\")\n",
    "\n",
    "    x = layers.concatenate(\n",
    "        [branch_0, branch_1, branch_2, branch_3],\n",
    "        axis=channel_axis,\n",
    "        name=name+\"_Concatenated\")\n",
    "    return x"
   ]
  },
  {
   "cell_type": "markdown",
   "metadata": {},
   "source": [
    "## 測試"
   ]
  },
  {
   "cell_type": "code",
   "execution_count": 18,
   "metadata": {},
   "outputs": [
    {
     "name": "stdout",
     "output_type": "stream",
     "text": [
      "Tensor(\"Block_1_Concatenated_1/Identity:0\", shape=(None, 224, 224, 256), dtype=float32)\n"
     ]
    }
   ],
   "source": [
    "img_input = Input(shape=(224,224,1))\n",
    "x=InceptionV3_block(img_input, ((64,), (96,128), (16,32), (32,)), 3, 'Block_1')\n",
    "print(x)"
   ]
  },
  {
   "cell_type": "markdown",
   "metadata": {},
   "source": [
    "---"
   ]
  },
  {
   "cell_type": "markdown",
   "metadata": {},
   "source": [
    "## 額外練習"
   ]
  },
  {
   "cell_type": "markdown",
   "metadata": {},
   "source": [
    "## 將VGG16 Block_3中的Convolution全部改為InceptionV1_block\n",
    "## Block_5中的Convolution全部改為InceptionV3_block\n",
    "## 並將所有Convolution改為Conv2d_bn"
   ]
  },
  {
   "cell_type": "markdown",
   "metadata": {},
   "source": [
    "#### 原vgg16架構"
   ]
  },
  {
   "cell_type": "code",
   "execution_count": 19,
   "metadata": {},
   "outputs": [],
   "source": [
    "\n",
    "\n",
    "def VGG16(include_top=True,input_tensor=None, input_shape=(224,224,1),\n",
    "          pooling='max',classes=1000):\n",
    " \n",
    "    img_input = Input(shape=input_shape)\n",
    "\n",
    "    x = Conv2D(64, (3, 3), activation='relu', padding='same', name='block1_conv1')(img_input)\n",
    "    x = Conv2D(64, (3, 3), activation='relu', padding='same', name='block1_conv2')(x)\n",
    "    x = MaxPooling2D((2, 2), strides=(2, 2), name='block1_pool')(x)\n",
    "\n",
    "    # Block 2\n",
    "    x = Conv2D(128, (3, 3), activation='relu', padding='same', name='block2_conv1')(x)\n",
    "    x = Conv2D(128, (3, 3), activation='relu', padding='same', name='block2_conv2')(x)\n",
    "    x = MaxPooling2D((2, 2), strides=(2, 2), name='block2_pool')(x)\n",
    "\n",
    "    # Block 3\n",
    "    x = Conv2D(256, (3, 3), activation='relu', padding='same', name='block3_conv1')(x)\n",
    "    x = Conv2D(256, (3, 3), activation='relu', padding='same', name='block3_conv2')(x)\n",
    "    x = Conv2D(256, (3, 3), activation='relu', padding='same', name='block3_conv3')(x)\n",
    "    x = MaxPooling2D((2, 2), strides=(2, 2), name='block3_pool')(x)\n",
    "\n",
    "    # Block 4\n",
    "    x = Conv2D(512, (3, 3), activation='relu', padding='same', name='block4_conv1')(x)\n",
    "    x = Conv2D(512, (3, 3), activation='relu', padding='same', name='block4_conv2')(x)\n",
    "    x = Conv2D(512, (3, 3), activation='relu', padding='same', name='block4_conv3')(x)\n",
    "    x = MaxPooling2D((2, 2), strides=(2, 2), name='block4_pool')(x)\n",
    "\n",
    "    # Block 5\n",
    "    x = Conv2D(512, (3, 3), activation='relu', padding='same', name='block5_conv1')(x)\n",
    "    x = Conv2D(512, (3, 3), activation='relu', padding='same', name='block5_conv2')(x)\n",
    "    x = Conv2D(512, (3, 3), activation='relu', padding='same', name='block5_conv3')(x)\n",
    "    x = MaxPooling2D((2, 2), strides=(2, 2), name='block5_pool')(x)\n",
    "\n",
    "    if include_top:\n",
    "        # Classification block\n",
    "        x = Flatten(name='flatten')(x)\n",
    "        x = Dense(4096, activation='relu', name='fc1')(x)\n",
    "        x = Dense(4096, activation='relu', name='fc2')(x)\n",
    "        x = Dense(classes, activation='softmax', name='predictions')(x)\n",
    "    else:\n",
    "        if pooling == 'avg':\n",
    "            x = GlobalAveragePooling2D()(x)\n",
    "        elif pooling == 'max':\n",
    "            x = GlobalMaxPooling2D()(x)\n",
    "\n",
    "    inputs = img_input\n",
    "    # Create model.\n",
    "    model = Model(inputs, x, name='vgg16')\n",
    "\n",
    "   \n",
    "    return model\n",
    "\n"
   ]
  },
  {
   "cell_type": "markdown",
   "metadata": {},
   "source": [
    "#### 修改後"
   ]
  },
  {
   "cell_type": "code",
   "execution_count": 20,
   "metadata": {},
   "outputs": [],
   "source": [
    "def VGG16_Inception(include_top=True,input_tensor=None, input_shape=(224,224,1),\n",
    "          pooling='max',classes=1000):\n",
    " \n",
    "    '''修改模型'''\n",
    "   \n",
    "    img_input = Input(shape=input_shape)\n",
    "\n",
    "    x = Conv2D(64, (3, 3), activation='relu', padding='same', name='block1_conv1')(img_input)\n",
    "    x = Conv2D(64, (3, 3), activation='relu', padding='same', name='block1_conv2')(x)\n",
    "    x = MaxPooling2D((2, 2), strides=(2, 2), name='block1_pool')(x)\n",
    "\n",
    "    # Block 2\n",
    "    x = Conv2D(128, (3, 3), activation='relu', padding='same', name='block2_conv1')(x)\n",
    "    x = Conv2D(128, (3, 3), activation='relu', padding='same', name='block2_conv2')(x)\n",
    "    x = MaxPooling2D((2, 2), strides=(2, 2), name='block2_pool')(x)\n",
    "\n",
    "    # Block 3\n",
    "    x=InceptionV1_block(img_input, ((64,), (96,128), (16,32), (32,)), 3, 'Block_1')\n",
    "    x=InceptionV1_block(img_input, ((64,), (96,128), (16,32), (32,)), 3, 'Block_2')\n",
    "    x=InceptionV1_block(img_input, ((64,), (96,128), (16,32), (32,)), 3, 'Block_3')\n",
    "\n",
    "    x = MaxPooling2D((2, 2), strides=(2, 2), name='block3_pool')(x)\n",
    "\n",
    "    # Block 4\n",
    "    x = Conv2D(512, (3, 3), activation='relu', padding='same', name='block4_conv1')(x)\n",
    "    x = Conv2D(512, (3, 3), activation='relu', padding='same', name='block4_conv2')(x)\n",
    "    x = Conv2D(512, (3, 3), activation='relu', padding='same', name='block4_conv3')(x)\n",
    "    x = MaxPooling2D((2, 2), strides=(2, 2), name='block4_pool')(x)\n",
    "\n",
    "    # Block 5\n",
    "    x=InceptionV3_block(img_input, ((64,), (96,128), (16,32), (32,)), 3, 'Block_1')\n",
    "    x=InceptionV3_block(img_input, ((64,), (96,128), (16,32), (32,)), 3, 'Block_1')\n",
    "    x=InceptionV3_block(img_input, ((64,), (96,128), (16,32), (32,)), 3, 'Block_1')\n",
    "    x = MaxPooling2D((2, 2), strides=(2, 2), name='block5_pool')(x)\n",
    "\n",
    "    if include_top:\n",
    "        # Classification block\n",
    "        x = Flatten(name='flatten')(x)\n",
    "        x = Dense(4096, activation='relu', name='fc1')(x)\n",
    "        x = Dense(4096, activation='relu', name='fc2')(x)\n",
    "        x = Dense(classes, activation='softmax', name='predictions')(x)\n",
    "    else:\n",
    "        if pooling == 'avg':\n",
    "            x = GlobalAveragePooling2D()(x)\n",
    "        elif pooling == 'max':\n",
    "            x = GlobalMaxPooling2D()(x)\n",
    "\n",
    "    inputs = img_input\n",
    "    # Create model.\n",
    "    model = Model(inputs, x, name='vgg16')\n",
    "\n",
    "   \n",
    "    return model\n"
   ]
  },
  {
   "cell_type": "code",
   "execution_count": 21,
   "metadata": {},
   "outputs": [],
   "source": [
    "model = VGG16_Inception(include_top=False)"
   ]
  },
  {
   "cell_type": "code",
   "execution_count": 22,
   "metadata": {},
   "outputs": [
    {
     "name": "stdout",
     "output_type": "stream",
     "text": [
      "Model: \"vgg16\"\n",
      "__________________________________________________________________________________________________\n",
      "Layer (type)                    Output Shape         Param #     Connected to                     \n",
      "==================================================================================================\n",
      "input_8 (InputLayer)            [(None, 224, 224, 1) 0                                            \n",
      "__________________________________________________________________________________________________\n",
      "Block_1_Branch_1_conv (Conv2D)  (None, 224, 224, 96) 96          input_8[0][0]                    \n",
      "__________________________________________________________________________________________________\n",
      "Block_1Branch_2_conv (Conv2D)   (None, 224, 224, 16) 16          input_8[0][0]                    \n",
      "__________________________________________________________________________________________________\n",
      "Block_1_Branch_1_bn (BatchNorma (None, 224, 224, 96) 288         Block_1_Branch_1_conv[0][0]      \n",
      "__________________________________________________________________________________________________\n",
      "Block_1Branch_2_bn (BatchNormal (None, 224, 224, 16) 48          Block_1Branch_2_conv[0][0]       \n",
      "__________________________________________________________________________________________________\n",
      "Block_1_Branch_1_act (Activatio (None, 224, 224, 96) 0           Block_1_Branch_1_bn[0][0]        \n",
      "__________________________________________________________________________________________________\n",
      "Block_1Branch_2_act (Activation (None, 224, 224, 16) 0           Block_1Branch_2_bn[0][0]         \n",
      "__________________________________________________________________________________________________\n",
      "Block_1_Branch_1_1_conv (Conv2D (None, 224, 224, 128 36864       Block_1_Branch_1_act[0][0]       \n",
      "__________________________________________________________________________________________________\n",
      "Block_1Branch_2_1_conv (Conv2D) (None, 224, 224, 32) 2560        Block_1Branch_2_act[0][0]        \n",
      "__________________________________________________________________________________________________\n",
      "Block_1_Branch_1_1_bn (BatchNor (None, 224, 224, 128 384         Block_1_Branch_1_1_conv[0][0]    \n",
      "__________________________________________________________________________________________________\n",
      "Block_1Branch_2_1_bn (BatchNorm (None, 224, 224, 32) 96          Block_1Branch_2_1_conv[0][0]     \n",
      "__________________________________________________________________________________________________\n",
      "Block_1_Branch_1_1_act (Activat (None, 224, 224, 128 0           Block_1_Branch_1_1_bn[0][0]      \n",
      "__________________________________________________________________________________________________\n",
      "Block_1Branch_2_1_act (Activati (None, 224, 224, 32) 0           Block_1Branch_2_1_bn[0][0]       \n",
      "__________________________________________________________________________________________________\n",
      "Block_1_Branch_3 (MaxPooling2D) (None, 224, 224, 1)  0           input_8[0][0]                    \n",
      "__________________________________________________________________________________________________\n",
      "Block_1_Branch_0_conv (Conv2D)  (None, 224, 224, 64) 64          input_8[0][0]                    \n",
      "__________________________________________________________________________________________________\n",
      "Block_1_Branch_1_2_conv (Conv2D (None, 224, 224, 128 49152       Block_1_Branch_1_1_act[0][0]     \n",
      "__________________________________________________________________________________________________\n",
      "Block_1Branch_2_2_conv (Conv2D) (None, 224, 224, 32) 5120        Block_1Branch_2_1_act[0][0]      \n",
      "__________________________________________________________________________________________________\n",
      "Block_1_Branch_3_conv (Conv2D)  (None, 224, 224, 32) 32          Block_1_Branch_3[0][0]           \n",
      "__________________________________________________________________________________________________\n",
      "Block_1_Branch_0_bn (BatchNorma (None, 224, 224, 64) 192         Block_1_Branch_0_conv[0][0]      \n",
      "__________________________________________________________________________________________________\n",
      "Block_1_Branch_1_2_bn (BatchNor (None, 224, 224, 128 384         Block_1_Branch_1_2_conv[0][0]    \n",
      "__________________________________________________________________________________________________\n",
      "Block_1Branch_2_2_bn (BatchNorm (None, 224, 224, 32) 96          Block_1Branch_2_2_conv[0][0]     \n",
      "__________________________________________________________________________________________________\n",
      "Block_1_Branch_3_bn (BatchNorma (None, 224, 224, 32) 96          Block_1_Branch_3_conv[0][0]      \n",
      "__________________________________________________________________________________________________\n",
      "Block_1_Branch_0_act (Activatio (None, 224, 224, 64) 0           Block_1_Branch_0_bn[0][0]        \n",
      "__________________________________________________________________________________________________\n",
      "Block_1_Branch_1_2_act (Activat (None, 224, 224, 128 0           Block_1_Branch_1_2_bn[0][0]      \n",
      "__________________________________________________________________________________________________\n",
      "Block_1Branch_2_2_act (Activati (None, 224, 224, 32) 0           Block_1Branch_2_2_bn[0][0]       \n",
      "__________________________________________________________________________________________________\n",
      "Block_1_Branch_3_act (Activatio (None, 224, 224, 32) 0           Block_1_Branch_3_bn[0][0]        \n",
      "__________________________________________________________________________________________________\n",
      "Block_1_Concatenated (Concatena (None, 224, 224, 256 0           Block_1_Branch_0_act[0][0]       \n",
      "                                                                 Block_1_Branch_1_2_act[0][0]     \n",
      "                                                                 Block_1Branch_2_2_act[0][0]      \n",
      "                                                                 Block_1_Branch_3_act[0][0]       \n",
      "__________________________________________________________________________________________________\n",
      "block5_pool (MaxPooling2D)      (None, 112, 112, 256 0           Block_1_Concatenated[0][0]       \n",
      "__________________________________________________________________________________________________\n",
      "global_max_pooling2d_2 (GlobalM (None, 256)          0           block5_pool[0][0]                \n",
      "==================================================================================================\n",
      "Total params: 95,488\n",
      "Trainable params: 94,432\n",
      "Non-trainable params: 1,056\n",
      "__________________________________________________________________________________________________\n"
     ]
    }
   ],
   "source": [
    "model.summary()"
   ]
  },
  {
   "cell_type": "code",
   "execution_count": null,
   "metadata": {},
   "outputs": [],
   "source": []
  }
 ],
 "metadata": {
  "kernelspec": {
   "display_name": "Python 3",
   "language": "python",
   "name": "python3"
  },
  "language_info": {
   "codemirror_mode": {
    "name": "ipython",
    "version": 3
   },
   "file_extension": ".py",
   "mimetype": "text/x-python",
   "name": "python",
   "nbconvert_exporter": "python",
   "pygments_lexer": "ipython3",
   "version": "3.7.6"
  }
 },
 "nbformat": 4,
 "nbformat_minor": 2
}
